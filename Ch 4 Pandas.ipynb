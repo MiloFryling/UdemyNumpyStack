{
 "cells": [
  {
   "cell_type": "markdown",
   "id": "dd591148",
   "metadata": {},
   "source": [
    "Goal: Make donut plot\n",
    "\n",
    "How: get lists of x1,x2 pairs whose sqrt(x1^2, x2^2) is centered at 4 and 8\n",
    "    Color at data generation time \n",
    "\n",
    "scratch:\n",
    "\n"
   ]
  },
  {
   "cell_type": "markdown",
   "id": "521754a3",
   "metadata": {},
   "source": [
    "Get bunch 'o points and plot"
   ]
  },
  {
   "cell_type": "code",
   "execution_count": null,
   "id": "6d498c96",
   "metadata": {},
   "outputs": [],
   "source": [
    "import numpy as np\n",
    "import pandas as pd\n",
    "\n",
    "np.linspace."
   ]
  },
  {
   "cell_type": "code",
   "execution_count": null,
   "id": "30eef538",
   "metadata": {},
   "outputs": [],
   "source": []
  }
 ],
 "metadata": {
  "kernelspec": {
   "display_name": "Python 3",
   "language": "python",
   "name": "python3"
  },
  "language_info": {
   "codemirror_mode": {
    "name": "ipython",
    "version": 3
   },
   "file_extension": ".py",
   "mimetype": "text/x-python",
   "name": "python",
   "nbconvert_exporter": "python",
   "pygments_lexer": "ipython3",
   "version": "3.8.8"
  }
 },
 "nbformat": 4,
 "nbformat_minor": 5
}
